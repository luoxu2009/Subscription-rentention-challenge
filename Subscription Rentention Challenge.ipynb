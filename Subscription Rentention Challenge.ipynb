{
 "cells": [
  {
   "cell_type": "code",
   "execution_count": 1,
   "metadata": {},
   "outputs": [],
   "source": [
    "import numpy as np\n",
    "import pandas as pd\n",
    "import matplotlib.pyplot as plt\n",
    "import warnings\n",
    "warnings.filterwarnings('ignore')"
   ]
  },
  {
   "cell_type": "code",
   "execution_count": 2,
   "metadata": {},
   "outputs": [],
   "source": [
    "sub=pd.read_csv('subscription.csv')"
   ]
  },
  {
   "cell_type": "code",
   "execution_count": 3,
   "metadata": {},
   "outputs": [
    {
     "data": {
      "text/html": [
       "<div>\n",
       "<style scoped>\n",
       "    .dataframe tbody tr th:only-of-type {\n",
       "        vertical-align: middle;\n",
       "    }\n",
       "\n",
       "    .dataframe tbody tr th {\n",
       "        vertical-align: top;\n",
       "    }\n",
       "\n",
       "    .dataframe thead th {\n",
       "        text-align: right;\n",
       "    }\n",
       "</style>\n",
       "<table border=\"1\" class=\"dataframe\">\n",
       "  <thead>\n",
       "    <tr style=\"text-align: right;\">\n",
       "      <th></th>\n",
       "      <th>user_id</th>\n",
       "      <th>subscription_signup_date</th>\n",
       "      <th>subscription_monthly_cost</th>\n",
       "      <th>country</th>\n",
       "      <th>source</th>\n",
       "      <th>billing_cycles</th>\n",
       "      <th>is_active</th>\n",
       "    </tr>\n",
       "  </thead>\n",
       "  <tbody>\n",
       "    <tr>\n",
       "      <th>0</th>\n",
       "      <td>1459</td>\n",
       "      <td>January, 2015</td>\n",
       "      <td>29</td>\n",
       "      <td>Spain</td>\n",
       "      <td>ads</td>\n",
       "      <td>4</td>\n",
       "      <td>0</td>\n",
       "    </tr>\n",
       "    <tr>\n",
       "      <th>1</th>\n",
       "      <td>12474</td>\n",
       "      <td>January, 2015</td>\n",
       "      <td>49</td>\n",
       "      <td>France</td>\n",
       "      <td>ads</td>\n",
       "      <td>5</td>\n",
       "      <td>0</td>\n",
       "    </tr>\n",
       "    <tr>\n",
       "      <th>2</th>\n",
       "      <td>12294</td>\n",
       "      <td>January, 2015</td>\n",
       "      <td>49</td>\n",
       "      <td>Germany</td>\n",
       "      <td>ads</td>\n",
       "      <td>2</td>\n",
       "      <td>0</td>\n",
       "    </tr>\n",
       "    <tr>\n",
       "      <th>3</th>\n",
       "      <td>3878</td>\n",
       "      <td>January, 2015</td>\n",
       "      <td>49</td>\n",
       "      <td>China</td>\n",
       "      <td>ads</td>\n",
       "      <td>1</td>\n",
       "      <td>0</td>\n",
       "    </tr>\n",
       "    <tr>\n",
       "      <th>4</th>\n",
       "      <td>9567</td>\n",
       "      <td>January, 2015</td>\n",
       "      <td>49</td>\n",
       "      <td>UK</td>\n",
       "      <td>ads</td>\n",
       "      <td>5</td>\n",
       "      <td>0</td>\n",
       "    </tr>\n",
       "  </tbody>\n",
       "</table>\n",
       "</div>"
      ],
      "text/plain": [
       "   user_id subscription_signup_date  subscription_monthly_cost  country  \\\n",
       "0     1459            January, 2015                         29    Spain   \n",
       "1    12474            January, 2015                         49   France   \n",
       "2    12294            January, 2015                         49  Germany   \n",
       "3     3878            January, 2015                         49    China   \n",
       "4     9567            January, 2015                         49       UK   \n",
       "\n",
       "  source  billing_cycles  is_active  \n",
       "0    ads               4          0  \n",
       "1    ads               5          0  \n",
       "2    ads               2          0  \n",
       "3    ads               1          0  \n",
       "4    ads               5          0  "
      ]
     },
     "execution_count": 3,
     "metadata": {},
     "output_type": "execute_result"
    }
   ],
   "source": [
    "sub.head()"
   ]
  },
  {
   "cell_type": "code",
   "execution_count": 4,
   "metadata": {},
   "outputs": [
    {
     "name": "stdout",
     "output_type": "stream",
     "text": [
      "<class 'pandas.core.frame.DataFrame'>\n",
      "RangeIndex: 500000 entries, 0 to 499999\n",
      "Data columns (total 7 columns):\n",
      "user_id                      500000 non-null int64\n",
      "subscription_signup_date     500000 non-null object\n",
      "subscription_monthly_cost    500000 non-null int64\n",
      "country                      500000 non-null object\n",
      "source                       500000 non-null object\n",
      "billing_cycles               500000 non-null int64\n",
      "is_active                    500000 non-null int64\n",
      "dtypes: int64(4), object(3)\n",
      "memory usage: 26.7+ MB\n"
     ]
    }
   ],
   "source": [
    "sub.info()"
   ]
  },
  {
   "cell_type": "code",
   "execution_count": 5,
   "metadata": {},
   "outputs": [
    {
     "data": {
      "text/html": [
       "<div>\n",
       "<style scoped>\n",
       "    .dataframe tbody tr th:only-of-type {\n",
       "        vertical-align: middle;\n",
       "    }\n",
       "\n",
       "    .dataframe tbody tr th {\n",
       "        vertical-align: top;\n",
       "    }\n",
       "\n",
       "    .dataframe thead th {\n",
       "        text-align: right;\n",
       "    }\n",
       "</style>\n",
       "<table border=\"1\" class=\"dataframe\">\n",
       "  <thead>\n",
       "    <tr style=\"text-align: right;\">\n",
       "      <th></th>\n",
       "      <th>user_id</th>\n",
       "      <th>subscription_signup_date</th>\n",
       "      <th>subscription_monthly_cost</th>\n",
       "      <th>country</th>\n",
       "      <th>source</th>\n",
       "      <th>billing_cycles</th>\n",
       "      <th>is_active</th>\n",
       "    </tr>\n",
       "  </thead>\n",
       "  <tbody>\n",
       "    <tr>\n",
       "      <th>count</th>\n",
       "      <td>500000.000000</td>\n",
       "      <td>500000</td>\n",
       "      <td>500000.000000</td>\n",
       "      <td>500000</td>\n",
       "      <td>500000</td>\n",
       "      <td>500000.000000</td>\n",
       "      <td>500000.000000</td>\n",
       "    </tr>\n",
       "    <tr>\n",
       "      <th>unique</th>\n",
       "      <td>NaN</td>\n",
       "      <td>1</td>\n",
       "      <td>NaN</td>\n",
       "      <td>8</td>\n",
       "      <td>3</td>\n",
       "      <td>NaN</td>\n",
       "      <td>NaN</td>\n",
       "    </tr>\n",
       "    <tr>\n",
       "      <th>top</th>\n",
       "      <td>NaN</td>\n",
       "      <td>January, 2015</td>\n",
       "      <td>NaN</td>\n",
       "      <td>US</td>\n",
       "      <td>ads</td>\n",
       "      <td>NaN</td>\n",
       "      <td>NaN</td>\n",
       "    </tr>\n",
       "    <tr>\n",
       "      <th>freq</th>\n",
       "      <td>NaN</td>\n",
       "      <td>500000</td>\n",
       "      <td>NaN</td>\n",
       "      <td>91731</td>\n",
       "      <td>414469</td>\n",
       "      <td>NaN</td>\n",
       "      <td>NaN</td>\n",
       "    </tr>\n",
       "    <tr>\n",
       "      <th>mean</th>\n",
       "      <td>250000.500000</td>\n",
       "      <td>NaN</td>\n",
       "      <td>48.469620</td>\n",
       "      <td>NaN</td>\n",
       "      <td>NaN</td>\n",
       "      <td>2.384970</td>\n",
       "      <td>0.099998</td>\n",
       "    </tr>\n",
       "    <tr>\n",
       "      <th>std</th>\n",
       "      <td>144337.711634</td>\n",
       "      <td>NaN</td>\n",
       "      <td>19.570745</td>\n",
       "      <td>NaN</td>\n",
       "      <td>NaN</td>\n",
       "      <td>2.254952</td>\n",
       "      <td>0.299998</td>\n",
       "    </tr>\n",
       "    <tr>\n",
       "      <th>min</th>\n",
       "      <td>1.000000</td>\n",
       "      <td>NaN</td>\n",
       "      <td>29.000000</td>\n",
       "      <td>NaN</td>\n",
       "      <td>NaN</td>\n",
       "      <td>1.000000</td>\n",
       "      <td>0.000000</td>\n",
       "    </tr>\n",
       "    <tr>\n",
       "      <th>25%</th>\n",
       "      <td>125000.750000</td>\n",
       "      <td>NaN</td>\n",
       "      <td>29.000000</td>\n",
       "      <td>NaN</td>\n",
       "      <td>NaN</td>\n",
       "      <td>1.000000</td>\n",
       "      <td>0.000000</td>\n",
       "    </tr>\n",
       "    <tr>\n",
       "      <th>50%</th>\n",
       "      <td>250000.500000</td>\n",
       "      <td>NaN</td>\n",
       "      <td>49.000000</td>\n",
       "      <td>NaN</td>\n",
       "      <td>NaN</td>\n",
       "      <td>1.000000</td>\n",
       "      <td>0.000000</td>\n",
       "    </tr>\n",
       "    <tr>\n",
       "      <th>75%</th>\n",
       "      <td>375000.250000</td>\n",
       "      <td>NaN</td>\n",
       "      <td>49.000000</td>\n",
       "      <td>NaN</td>\n",
       "      <td>NaN</td>\n",
       "      <td>3.000000</td>\n",
       "      <td>0.000000</td>\n",
       "    </tr>\n",
       "    <tr>\n",
       "      <th>max</th>\n",
       "      <td>500000.000000</td>\n",
       "      <td>NaN</td>\n",
       "      <td>99.000000</td>\n",
       "      <td>NaN</td>\n",
       "      <td>NaN</td>\n",
       "      <td>8.000000</td>\n",
       "      <td>1.000000</td>\n",
       "    </tr>\n",
       "  </tbody>\n",
       "</table>\n",
       "</div>"
      ],
      "text/plain": [
       "              user_id subscription_signup_date  subscription_monthly_cost  \\\n",
       "count   500000.000000                   500000              500000.000000   \n",
       "unique            NaN                        1                        NaN   \n",
       "top               NaN            January, 2015                        NaN   \n",
       "freq              NaN                   500000                        NaN   \n",
       "mean    250000.500000                      NaN                  48.469620   \n",
       "std     144337.711634                      NaN                  19.570745   \n",
       "min          1.000000                      NaN                  29.000000   \n",
       "25%     125000.750000                      NaN                  29.000000   \n",
       "50%     250000.500000                      NaN                  49.000000   \n",
       "75%     375000.250000                      NaN                  49.000000   \n",
       "max     500000.000000                      NaN                  99.000000   \n",
       "\n",
       "       country  source  billing_cycles      is_active  \n",
       "count   500000  500000   500000.000000  500000.000000  \n",
       "unique       8       3             NaN            NaN  \n",
       "top         US     ads             NaN            NaN  \n",
       "freq     91731  414469             NaN            NaN  \n",
       "mean       NaN     NaN        2.384970       0.099998  \n",
       "std        NaN     NaN        2.254952       0.299998  \n",
       "min        NaN     NaN        1.000000       0.000000  \n",
       "25%        NaN     NaN        1.000000       0.000000  \n",
       "50%        NaN     NaN        1.000000       0.000000  \n",
       "75%        NaN     NaN        3.000000       0.000000  \n",
       "max        NaN     NaN        8.000000       1.000000  "
      ]
     },
     "execution_count": 5,
     "metadata": {},
     "output_type": "execute_result"
    }
   ],
   "source": [
    "sub.describe(include='all')"
   ]
  },
  {
   "cell_type": "code",
   "execution_count": 6,
   "metadata": {},
   "outputs": [],
   "source": [
    "#Q1: model that predict monthly rentention rate for different subscription price points\n",
    "## loop through each monthly cost, calculate rention for month 1 throuht month 8.\n",
    "#list of different prices:\n",
    "pricelist=np.unique(sub['subscription_monthly_cost'])\n",
    "rtn_dict={}\n",
    "\n",
    "for price in pricelist:\n",
    "    rtn=[]\n",
    "    user_num=len(sub[sub['subscription_monthly_cost']==price])\n",
    "    for i in range(1,9):\n",
    "        rate=len(sub[(sub['subscription_monthly_cost']==price) & (sub['billing_cycles']>=i)])/float(user_num)\n",
    "        rtn.append(rate)\n",
    "    rtn_dict[price]=rtn\n",
    "\n",
    "rtn_df=pd.DataFrame(rtn_dict)"
   ]
  },
  {
   "cell_type": "code",
   "execution_count": 7,
   "metadata": {},
   "outputs": [],
   "source": [
    "rtn_df.index=range(1,9)"
   ]
  },
  {
   "cell_type": "code",
   "execution_count": 8,
   "metadata": {},
   "outputs": [
    {
     "data": {
      "text/html": [
       "<div>\n",
       "<style scoped>\n",
       "    .dataframe tbody tr th:only-of-type {\n",
       "        vertical-align: middle;\n",
       "    }\n",
       "\n",
       "    .dataframe tbody tr th {\n",
       "        vertical-align: top;\n",
       "    }\n",
       "\n",
       "    .dataframe thead th {\n",
       "        text-align: right;\n",
       "    }\n",
       "</style>\n",
       "<table border=\"1\" class=\"dataframe\">\n",
       "  <thead>\n",
       "    <tr style=\"text-align: right;\">\n",
       "      <th></th>\n",
       "      <th>29</th>\n",
       "      <th>49</th>\n",
       "      <th>99</th>\n",
       "    </tr>\n",
       "  </thead>\n",
       "  <tbody>\n",
       "    <tr>\n",
       "      <th>1</th>\n",
       "      <td>1.000000</td>\n",
       "      <td>1.000000</td>\n",
       "      <td>1.000000</td>\n",
       "    </tr>\n",
       "    <tr>\n",
       "      <th>2</th>\n",
       "      <td>0.607542</td>\n",
       "      <td>0.383666</td>\n",
       "      <td>0.158769</td>\n",
       "    </tr>\n",
       "    <tr>\n",
       "      <th>3</th>\n",
       "      <td>0.458473</td>\n",
       "      <td>0.206247</td>\n",
       "      <td>0.070040</td>\n",
       "    </tr>\n",
       "    <tr>\n",
       "      <th>4</th>\n",
       "      <td>0.376232</td>\n",
       "      <td>0.134043</td>\n",
       "      <td>0.042411</td>\n",
       "    </tr>\n",
       "    <tr>\n",
       "      <th>5</th>\n",
       "      <td>0.323028</td>\n",
       "      <td>0.096466</td>\n",
       "      <td>0.029676</td>\n",
       "    </tr>\n",
       "    <tr>\n",
       "      <th>6</th>\n",
       "      <td>0.285416</td>\n",
       "      <td>0.074072</td>\n",
       "      <td>0.022182</td>\n",
       "    </tr>\n",
       "    <tr>\n",
       "      <th>7</th>\n",
       "      <td>0.257157</td>\n",
       "      <td>0.059408</td>\n",
       "      <td>0.017937</td>\n",
       "    </tr>\n",
       "    <tr>\n",
       "      <th>8</th>\n",
       "      <td>0.235901</td>\n",
       "      <td>0.048845</td>\n",
       "      <td>0.015007</td>\n",
       "    </tr>\n",
       "  </tbody>\n",
       "</table>\n",
       "</div>"
      ],
      "text/plain": [
       "         29        49        99\n",
       "1  1.000000  1.000000  1.000000\n",
       "2  0.607542  0.383666  0.158769\n",
       "3  0.458473  0.206247  0.070040\n",
       "4  0.376232  0.134043  0.042411\n",
       "5  0.323028  0.096466  0.029676\n",
       "6  0.285416  0.074072  0.022182\n",
       "7  0.257157  0.059408  0.017937\n",
       "8  0.235901  0.048845  0.015007"
      ]
     },
     "execution_count": 8,
     "metadata": {},
     "output_type": "execute_result"
    }
   ],
   "source": [
    "rtn_df"
   ]
  },
  {
   "cell_type": "code",
   "execution_count": 9,
   "metadata": {},
   "outputs": [
    {
     "data": {
      "text/plain": [
       "<matplotlib.axes._subplots.AxesSubplot at 0x1fe0754b828>"
      ]
     },
     "execution_count": 9,
     "metadata": {},
     "output_type": "execute_result"
    },
    {
     "data": {
      "image/png": "[encoded data removed]",
      "text/plain": [
       "<Figure size 432x288 with 1 Axes>"
      ]
     },
     "metadata": {
      "needs_background": "light"
     },
     "output_type": "display_data"
    }
   ],
   "source": [
    "rtn_df.plot()"
   ]
  },
  {
   "cell_type": "code",
   "execution_count": 10,
   "metadata": {},
   "outputs": [],
   "source": [
    "## from the plot one can see that the subscription rate drops exponentially with time.\n",
    "\n",
    "## to model the rentention rate, set up y=A*exp(-B*x), transform all rentention rate to log (rentention_rate) for linear reg.\n",
    "\n",
    "rtn_df.rename(columns={29:'price_29', 49: 'price_49', 99: 'price_99'}, inplace=True)\n",
    "\n",
    "rtn_df_log=np.log(rtn_df)"
   ]
  },
  {
   "cell_type": "code",
   "execution_count": 11,
   "metadata": {},
   "outputs": [
    {
     "data": {
      "text/html": [
       "<div>\n",
       "<style scoped>\n",
       "    .dataframe tbody tr th:only-of-type {\n",
       "        vertical-align: middle;\n",
       "    }\n",
       "\n",
       "    .dataframe tbody tr th {\n",
       "        vertical-align: top;\n",
       "    }\n",
       "\n",
       "    .dataframe thead th {\n",
       "        text-align: right;\n",
       "    }\n",
       "</style>\n",
       "<table border=\"1\" class=\"dataframe\">\n",
       "  <thead>\n",
       "    <tr style=\"text-align: right;\">\n",
       "      <th></th>\n",
       "      <th>price_29</th>\n",
       "      <th>price_49</th>\n",
       "      <th>price_99</th>\n",
       "    </tr>\n",
       "  </thead>\n",
       "  <tbody>\n",
       "    <tr>\n",
       "      <th>1</th>\n",
       "      <td>0.000000</td>\n",
       "      <td>0.000000</td>\n",
       "      <td>0.000000</td>\n",
       "    </tr>\n",
       "    <tr>\n",
       "      <th>2</th>\n",
       "      <td>-0.498335</td>\n",
       "      <td>-0.957984</td>\n",
       "      <td>-1.840307</td>\n",
       "    </tr>\n",
       "    <tr>\n",
       "      <th>3</th>\n",
       "      <td>-0.779854</td>\n",
       "      <td>-1.578680</td>\n",
       "      <td>-2.658689</td>\n",
       "    </tr>\n",
       "    <tr>\n",
       "      <th>4</th>\n",
       "      <td>-0.977551</td>\n",
       "      <td>-2.009597</td>\n",
       "      <td>-3.160349</td>\n",
       "    </tr>\n",
       "    <tr>\n",
       "      <th>5</th>\n",
       "      <td>-1.130017</td>\n",
       "      <td>-2.338568</td>\n",
       "      <td>-3.517404</td>\n",
       "    </tr>\n",
       "    <tr>\n",
       "      <th>6</th>\n",
       "      <td>-1.253809</td>\n",
       "      <td>-2.602718</td>\n",
       "      <td>-3.808467</td>\n",
       "    </tr>\n",
       "    <tr>\n",
       "      <th>7</th>\n",
       "      <td>-1.358069</td>\n",
       "      <td>-2.823326</td>\n",
       "      <td>-4.020873</td>\n",
       "    </tr>\n",
       "    <tr>\n",
       "      <th>8</th>\n",
       "      <td>-1.444341</td>\n",
       "      <td>-3.019096</td>\n",
       "      <td>-4.199223</td>\n",
       "    </tr>\n",
       "  </tbody>\n",
       "</table>\n",
       "</div>"
      ],
      "text/plain": [
       "   price_29  price_49  price_99\n",
       "1  0.000000  0.000000  0.000000\n",
       "2 -0.498335 -0.957984 -1.840307\n",
       "3 -0.779854 -1.578680 -2.658689\n",
       "4 -0.977551 -2.009597 -3.160349\n",
       "5 -1.130017 -2.338568 -3.517404\n",
       "6 -1.253809 -2.602718 -3.808467\n",
       "7 -1.358069 -2.823326 -4.020873\n",
       "8 -1.444341 -3.019096 -4.199223"
      ]
     },
     "execution_count": 11,
     "metadata": {},
     "output_type": "execute_result"
    }
   ],
   "source": [
    "rtn_df_log"
   ]
  },
  {
   "cell_type": "code",
   "execution_count": 12,
   "metadata": {},
   "outputs": [],
   "source": [
    "rtn_log=rtn_df_log.stack().reset_index()"
   ]
  },
  {
   "cell_type": "code",
   "execution_count": 13,
   "metadata": {},
   "outputs": [
    {
     "data": {
      "text/html": [
       "<div>\n",
       "<style scoped>\n",
       "    .dataframe tbody tr th:only-of-type {\n",
       "        vertical-align: middle;\n",
       "    }\n",
       "\n",
       "    .dataframe tbody tr th {\n",
       "        vertical-align: top;\n",
       "    }\n",
       "\n",
       "    .dataframe thead th {\n",
       "        text-align: right;\n",
       "    }\n",
       "</style>\n",
       "<table border=\"1\" class=\"dataframe\">\n",
       "  <thead>\n",
       "    <tr style=\"text-align: right;\">\n",
       "      <th></th>\n",
       "      <th>month</th>\n",
       "      <th>rtn</th>\n",
       "      <th>pr_29</th>\n",
       "      <th>pr_49</th>\n",
       "      <th>pr_99</th>\n",
       "    </tr>\n",
       "  </thead>\n",
       "  <tbody>\n",
       "    <tr>\n",
       "      <th>0</th>\n",
       "      <td>1</td>\n",
       "      <td>0.000000</td>\n",
       "      <td>1</td>\n",
       "      <td>0</td>\n",
       "      <td>0</td>\n",
       "    </tr>\n",
       "    <tr>\n",
       "      <th>1</th>\n",
       "      <td>1</td>\n",
       "      <td>0.000000</td>\n",
       "      <td>0</td>\n",
       "      <td>1</td>\n",
       "      <td>0</td>\n",
       "    </tr>\n",
       "    <tr>\n",
       "      <th>2</th>\n",
       "      <td>1</td>\n",
       "      <td>0.000000</td>\n",
       "      <td>0</td>\n",
       "      <td>0</td>\n",
       "      <td>1</td>\n",
       "    </tr>\n",
       "    <tr>\n",
       "      <th>3</th>\n",
       "      <td>2</td>\n",
       "      <td>-0.498335</td>\n",
       "      <td>1</td>\n",
       "      <td>0</td>\n",
       "      <td>0</td>\n",
       "    </tr>\n",
       "    <tr>\n",
       "      <th>4</th>\n",
       "      <td>2</td>\n",
       "      <td>-0.957984</td>\n",
       "      <td>0</td>\n",
       "      <td>1</td>\n",
       "      <td>0</td>\n",
       "    </tr>\n",
       "  </tbody>\n",
       "</table>\n",
       "</div>"
      ],
      "text/plain": [
       "   month       rtn  pr_29  pr_49  pr_99\n",
       "0      1  0.000000      1      0      0\n",
       "1      1  0.000000      0      1      0\n",
       "2      1  0.000000      0      0      1\n",
       "3      2 -0.498335      1      0      0\n",
       "4      2 -0.957984      0      1      0"
      ]
     },
     "execution_count": 13,
     "metadata": {},
     "output_type": "execute_result"
    }
   ],
   "source": [
    "rtn_log.columns=['month','price_lvl','rtn']\n",
    "rtn_log=pd.get_dummies(rtn_log)\n",
    "rtn_log.columns=['month','rtn','pr_29','pr_49','pr_99']\n",
    "rtn_log.head()"
   ]
  },
  {
   "cell_type": "markdown",
   "metadata": {},
   "source": [
    "### Linear Regression with month, one-hot encoded price levels and log(rentention rate)"
   ]
  },
  {
   "cell_type": "code",
   "execution_count": 14,
   "metadata": {},
   "outputs": [
    {
     "name": "stdout",
     "output_type": "stream",
     "text": [
      "[-3.72812030e-01  9.85472124e-01 -5.27119343e-04 -9.84945005e-01] -0.23806490271669123\n",
      "RMSE: 0.4729\n"
     ]
    }
   ],
   "source": [
    "from sklearn.linear_model import LinearRegression\n",
    "from sklearn.metrics import mean_squared_error\n",
    "\n",
    "model=LinearRegression()\n",
    "model.fit(rtn_log[['month','pr_29','pr_49','pr_99']], rtn_log['rtn'])\n",
    "pred=model.predict(rtn_log[['month','pr_29','pr_49','pr_99']])\n",
    "\n",
    "print(model.coef_, model.intercept_)\n",
    "print('RMSE: %.4f' % np.sqrt(mean_squared_error(rtn_log['rtn'], pred)) )"
   ]
  },
  {
   "cell_type": "markdown",
   "metadata": {},
   "source": [
    "### Linear Regression with month, price as two features and log(rentention) as y"
   ]
  },
  {
   "cell_type": "code",
   "execution_count": 15,
   "metadata": {},
   "outputs": [],
   "source": [
    "rtn_new=rtn_df_log.stack().reset_index()\n",
    "rtn_new.columns=['month','price_lvl','rtn']"
   ]
  },
  {
   "cell_type": "code",
   "execution_count": 16,
   "metadata": {},
   "outputs": [],
   "source": [
    "rtn_new['price']=rtn_new['price_lvl'].map({'price_29':29, 'price_49':49, 'price_99':99})"
   ]
  },
  {
   "cell_type": "code",
   "execution_count": 17,
   "metadata": {},
   "outputs": [],
   "source": [
    "rtn_new=rtn_new.drop('price_lvl', axis=1)"
   ]
  },
  {
   "cell_type": "code",
   "execution_count": 18,
   "metadata": {},
   "outputs": [
    {
     "data": {
      "text/html": [
       "<div>\n",
       "<style scoped>\n",
       "    .dataframe tbody tr th:only-of-type {\n",
       "        vertical-align: middle;\n",
       "    }\n",
       "\n",
       "    .dataframe tbody tr th {\n",
       "        vertical-align: top;\n",
       "    }\n",
       "\n",
       "    .dataframe thead th {\n",
       "        text-align: right;\n",
       "    }\n",
       "</style>\n",
       "<table border=\"1\" class=\"dataframe\">\n",
       "  <thead>\n",
       "    <tr style=\"text-align: right;\">\n",
       "      <th></th>\n",
       "      <th>month</th>\n",
       "      <th>rtn</th>\n",
       "      <th>price</th>\n",
       "    </tr>\n",
       "  </thead>\n",
       "  <tbody>\n",
       "    <tr>\n",
       "      <th>0</th>\n",
       "      <td>1</td>\n",
       "      <td>0.000000</td>\n",
       "      <td>29</td>\n",
       "    </tr>\n",
       "    <tr>\n",
       "      <th>1</th>\n",
       "      <td>1</td>\n",
       "      <td>0.000000</td>\n",
       "      <td>49</td>\n",
       "    </tr>\n",
       "    <tr>\n",
       "      <th>2</th>\n",
       "      <td>1</td>\n",
       "      <td>0.000000</td>\n",
       "      <td>99</td>\n",
       "    </tr>\n",
       "    <tr>\n",
       "      <th>3</th>\n",
       "      <td>2</td>\n",
       "      <td>-0.498335</td>\n",
       "      <td>29</td>\n",
       "    </tr>\n",
       "    <tr>\n",
       "      <th>4</th>\n",
       "      <td>2</td>\n",
       "      <td>-0.957984</td>\n",
       "      <td>49</td>\n",
       "    </tr>\n",
       "  </tbody>\n",
       "</table>\n",
       "</div>"
      ],
      "text/plain": [
       "   month       rtn  price\n",
       "0      1  0.000000     29\n",
       "1      1  0.000000     49\n",
       "2      1  0.000000     99\n",
       "3      2 -0.498335     29\n",
       "4      2 -0.957984     49"
      ]
     },
     "execution_count": 18,
     "metadata": {},
     "output_type": "execute_result"
    }
   ],
   "source": [
    "rtn_new.head()"
   ]
  },
  {
   "cell_type": "code",
   "execution_count": 19,
   "metadata": {},
   "outputs": [
    {
     "name": "stdout",
     "output_type": "stream",
     "text": [
      "[-0.37281203 -0.0265218 ] 1.3267215856589596\n",
      "RMSE: 0.5110\n"
     ]
    }
   ],
   "source": [
    "model2=LinearRegression()\n",
    "model2.fit(rtn_new[['month','price']], rtn_new['rtn'])\n",
    "pred2=model2.predict(rtn_new[['month','price']])\n",
    "\n",
    "print(model2.coef_, model2.intercept_)\n",
    "print('RMSE: %.4f' % np.sqrt(mean_squared_error(rtn_new['rtn'], pred2)) )"
   ]
  },
  {
   "cell_type": "markdown",
   "metadata": {},
   "source": [
    "#### Create x, x^2 and log(x) features and do linear regression for 3 different price groups on log (rentention)"
   ]
  },
  {
   "cell_type": "code",
   "execution_count": 25,
   "metadata": {},
   "outputs": [],
   "source": [
    "x=np.array(range(1,9))\n",
    "x2=x**2\n",
    "log_x=np.log(x)\n",
    "features=pd.DataFrame({'x':x, 'x2':x2, 'log_x':log_x})"
   ]
  },
  {
   "cell_type": "code",
   "execution_count": 48,
   "metadata": {},
   "outputs": [],
   "source": [
    "rtn_df=rtn_df.reset_index(drop=True)"
   ]
  },
  {
   "cell_type": "code",
   "execution_count": 50,
   "metadata": {},
   "outputs": [],
   "source": [
    "new_df=pd.concat((features, rtn_df), axis=1)\n"
   ]
  },
  {
   "cell_type": "code",
   "execution_count": 52,
   "metadata": {},
   "outputs": [
    {
     "name": "stdout",
     "output_type": "stream",
     "text": [
      "RMSE: 0.0114\n"
     ]
    }
   ],
   "source": [
    "model29=LinearRegression()\n",
    "model49=LinearRegression()\n",
    "model99=LinearRegression()\n",
    "\n",
    "model29.fit(new_df[['x','x2','log_x']], np.log(new_df['price_29']))\n",
    "model49.fit(new_df[['x','x2','log_x']], np.log(new_df['price_49']))\n",
    "model99.fit(new_df[['x','x2','log_x']], np.log(new_df['price_99']))\n",
    "\n",
    "pred29=model29.predict(new_df[['x','x2','log_x']])\n",
    "pred49=model49.predict(new_df[['x','x2','log_x']])\n",
    "pred99=model99.predict(new_df[['x','x2','log_x']])\n",
    "\n",
    "RMSE=np.sqrt(np.mean([mean_squared_error(np.log(new_df['price_29']), pred29), \n",
    "                     mean_squared_error(np.log(new_df['price_49']), pred49),\n",
    "                    mean_squared_error(np.log(new_df['price_99']), pred99)]))\n",
    "\n",
    "print('RMSE: %.4f' % RMSE )"
   ]
  },
  {
   "cell_type": "code",
   "execution_count": 53,
   "metadata": {},
   "outputs": [
    {
     "name": "stdout",
     "output_type": "stream",
     "text": [
      "predicted user rention at 12 month for $29 plan: 0.1789\n",
      "predicted user rention at 12 month for $49 plan: 0.0321\n",
      "predicted user rention at 12 month for $99 plan: 0.0056\n"
     ]
    }
   ],
   "source": [
    "## predict percentage of users still subscribed after 12 months\n",
    "print('predicted user rention at 12 month for $29 plan: {:.4f}'.format(np.exp(model29.predict([[12, 12**2, np.log(12)]])[0])))\n",
    "print('predicted user rention at 12 month for $49 plan: {:.4f}'.format(np.exp(model49.predict([[12, 12**2, np.log(12)]])[0])))\n",
    "print('predicted user rention at 12 month for $99 plan: {:.4f}'.format(np.exp(model99.predict([[12, 12**2, np.log(12)]])[0])))"
   ]
  },
  {
   "cell_type": "code",
   "execution_count": 55,
   "metadata": {},
   "outputs": [
    {
     "data": {
      "text/html": [
       "<div>\n",
       "<style scoped>\n",
       "    .dataframe tbody tr th:only-of-type {\n",
       "        vertical-align: middle;\n",
       "    }\n",
       "\n",
       "    .dataframe tbody tr th {\n",
       "        vertical-align: top;\n",
       "    }\n",
       "\n",
       "    .dataframe thead th {\n",
       "        text-align: right;\n",
       "    }\n",
       "</style>\n",
       "<table border=\"1\" class=\"dataframe\">\n",
       "  <thead>\n",
       "    <tr style=\"text-align: right;\">\n",
       "      <th></th>\n",
       "      <th>x</th>\n",
       "      <th>x2</th>\n",
       "      <th>log_x</th>\n",
       "      <th>pred29</th>\n",
       "      <th>pred49</th>\n",
       "      <th>pred99</th>\n",
       "    </tr>\n",
       "  </thead>\n",
       "  <tbody>\n",
       "    <tr>\n",
       "      <th>0</th>\n",
       "      <td>1</td>\n",
       "      <td>1</td>\n",
       "      <td>0.000000</td>\n",
       "      <td>0.999502</td>\n",
       "      <td>1.003844</td>\n",
       "      <td>0.992027</td>\n",
       "    </tr>\n",
       "    <tr>\n",
       "      <th>1</th>\n",
       "      <td>2</td>\n",
       "      <td>4</td>\n",
       "      <td>0.693147</td>\n",
       "      <td>0.608619</td>\n",
       "      <td>0.378064</td>\n",
       "      <td>0.163419</td>\n",
       "    </tr>\n",
       "    <tr>\n",
       "      <th>2</th>\n",
       "      <td>3</td>\n",
       "      <td>9</td>\n",
       "      <td>1.098612</td>\n",
       "      <td>0.458101</td>\n",
       "      <td>0.208259</td>\n",
       "      <td>0.069098</td>\n",
       "    </tr>\n",
       "    <tr>\n",
       "      <th>3</th>\n",
       "      <td>4</td>\n",
       "      <td>16</td>\n",
       "      <td>1.386294</td>\n",
       "      <td>0.375765</td>\n",
       "      <td>0.135129</td>\n",
       "      <td>0.041513</td>\n",
       "    </tr>\n",
       "    <tr>\n",
       "      <th>4</th>\n",
       "      <td>5</td>\n",
       "      <td>25</td>\n",
       "      <td>1.609438</td>\n",
       "      <td>0.322898</td>\n",
       "      <td>0.096500</td>\n",
       "      <td>0.029441</td>\n",
       "    </tr>\n",
       "    <tr>\n",
       "      <th>5</th>\n",
       "      <td>6</td>\n",
       "      <td>36</td>\n",
       "      <td>1.791759</td>\n",
       "      <td>0.285608</td>\n",
       "      <td>0.073590</td>\n",
       "      <td>0.022695</td>\n",
       "    </tr>\n",
       "    <tr>\n",
       "      <th>6</th>\n",
       "      <td>7</td>\n",
       "      <td>49</td>\n",
       "      <td>1.945910</td>\n",
       "      <td>0.257606</td>\n",
       "      <td>0.058968</td>\n",
       "      <td>0.018197</td>\n",
       "    </tr>\n",
       "    <tr>\n",
       "      <th>7</th>\n",
       "      <td>8</td>\n",
       "      <td>64</td>\n",
       "      <td>2.079442</td>\n",
       "      <td>0.235610</td>\n",
       "      <td>0.049174</td>\n",
       "      <td>0.014781</td>\n",
       "    </tr>\n",
       "    <tr>\n",
       "      <th>8</th>\n",
       "      <td>9</td>\n",
       "      <td>81</td>\n",
       "      <td>2.197225</td>\n",
       "      <td>0.217726</td>\n",
       "      <td>0.042412</td>\n",
       "      <td>0.011960</td>\n",
       "    </tr>\n",
       "    <tr>\n",
       "      <th>9</th>\n",
       "      <td>10</td>\n",
       "      <td>100</td>\n",
       "      <td>2.302585</td>\n",
       "      <td>0.202786</td>\n",
       "      <td>0.037674</td>\n",
       "      <td>0.009529</td>\n",
       "    </tr>\n",
       "    <tr>\n",
       "      <th>10</th>\n",
       "      <td>11</td>\n",
       "      <td>121</td>\n",
       "      <td>2.397895</td>\n",
       "      <td>0.190026</td>\n",
       "      <td>0.034361</td>\n",
       "      <td>0.007414</td>\n",
       "    </tr>\n",
       "    <tr>\n",
       "      <th>11</th>\n",
       "      <td>12</td>\n",
       "      <td>144</td>\n",
       "      <td>2.484907</td>\n",
       "      <td>0.178925</td>\n",
       "      <td>0.032107</td>\n",
       "      <td>0.005599</td>\n",
       "    </tr>\n",
       "  </tbody>\n",
       "</table>\n",
       "</div>"
      ],
      "text/plain": [
       "     x   x2     log_x    pred29    pred49    pred99\n",
       "0    1    1  0.000000  0.999502  1.003844  0.992027\n",
       "1    2    4  0.693147  0.608619  0.378064  0.163419\n",
       "2    3    9  1.098612  0.458101  0.208259  0.069098\n",
       "3    4   16  1.386294  0.375765  0.135129  0.041513\n",
       "4    5   25  1.609438  0.322898  0.096500  0.029441\n",
       "5    6   36  1.791759  0.285608  0.073590  0.022695\n",
       "6    7   49  1.945910  0.257606  0.058968  0.018197\n",
       "7    8   64  2.079442  0.235610  0.049174  0.014781\n",
       "8    9   81  2.197225  0.217726  0.042412  0.011960\n",
       "9   10  100  2.302585  0.202786  0.037674  0.009529\n",
       "10  11  121  2.397895  0.190026  0.034361  0.007414\n",
       "11  12  144  2.484907  0.178925  0.032107  0.005599"
      ]
     },
     "execution_count": 55,
     "metadata": {},
     "output_type": "execute_result"
    }
   ],
   "source": [
    "x=np.array(range(1, 13))\n",
    "x2=x**2\n",
    "log_x=np.log(x)\n",
    "\n",
    "features_=pd.DataFrame({'x':x, 'x2':x2, 'log_x': log_x})\n",
    "features_['pred29']=np.exp(model29.predict(features_[['x','x2','log_x']]))\n",
    "features_['pred49']=np.exp(model49.predict(features_[['x','x2','log_x']]))\n",
    "features_['pred99']=np.exp(model99.predict(features_[['x','x2','log_x']]))\n",
    "\n",
    "features_\n"
   ]
  },
  {
   "cell_type": "code",
   "execution_count": 60,
   "metadata": {},
   "outputs": [
    {
     "data": {
      "image/png": "[encoded data removed]",
      "text/plain": [
       "<Figure size 864x432 with 1 Axes>"
      ]
     },
     "metadata": {},
     "output_type": "display_data"
    }
   ],
   "source": [
    "fig, ax=plt.subplots(figsize=(12, 6))\n",
    "ax.plot(new_df['x'], new_df['price_29'], 'ro', label='$29 plan true rentention')\n",
    "ax.plot(features_['x'], features_['pred29'],'r-', label='$29 plan pred rentention')\n",
    "ax.plot(new_df['x'], new_df['price_49'], 'bo', label='$49 plan true rentention')\n",
    "ax.plot(features_['x'], features_['pred49'],'b-', label='$49 plan pred rentention')\n",
    "ax.plot(new_df['x'], new_df['price_99'], 'ko', label='$99 plan true rentention')\n",
    "ax.plot(features_['x'], features_['pred99'],'k-', label='$99 plan pred rentention')\n",
    "\n",
    "ax.set_xlabel('billing period', fontsize=12)\n",
    "ax.set_ylabel('rentention rate', fontsize=12)\n",
    "ax.legend(fontsize=12)\n",
    "\n",
    "plt.tight_layout()\n",
    "plt.show()"
   ]
  },
  {
   "cell_type": "code",
   "execution_count": 21,
   "metadata": {},
   "outputs": [],
   "source": [
    "## Explore the influence of country and source on rentention\n",
    "\n",
    "import seaborn as sns\n",
    "sns.set_style('whitegrid')"
   ]
  },
  {
   "cell_type": "code",
   "execution_count": 22,
   "metadata": {},
   "outputs": [
    {
     "data": {
      "text/plain": [
       "<matplotlib.axes._subplots.AxesSubplot at 0x1fe091b6dd8>"
      ]
     },
     "execution_count": 22,
     "metadata": {},
     "output_type": "execute_result"
    },
    {
     "data": {
      "image/png": "[encoded data removed]",
      "text/plain": [
       "<Figure size 1296x576 with 1 Axes>"
      ]
     },
     "metadata": {},
     "output_type": "display_data"
    }
   ],
   "source": [
    "plt.figure(figsize=(18,8))\n",
    "sns.barplot(x='country', y='is_active',hue='source', data=sub)"
   ]
  },
  {
   "cell_type": "markdown",
   "metadata": {},
   "source": [
    "#### one can see that for all countrys, friend_referalls has the highest rentention, 2nd is the SEO and ads is the 3rd.\n",
    "This means we should invest more in getting users to refer their friends and family to join our subscription program. For example, we can send emails to users asking them to refer friends and reward them for each successful referral.\n",
    "\n",
    "Also, it seems the users subscribed through ads do not have high retention: are our ads exaggerated? are users leaving because whatever is promised in the ads not meeting their expectations? We should re-examine and improve the ads and make sure what is advertised is on-par with what is actually available."
   ]
  },
  {
   "cell_type": "code",
   "execution_count": 23,
   "metadata": {},
   "outputs": [
    {
     "data": {
      "text/plain": [
       "<matplotlib.axes._subplots.AxesSubplot at 0x1fe0763fda0>"
      ]
     },
     "execution_count": 23,
     "metadata": {},
     "output_type": "execute_result"
    },
    {
     "data": {
      "image/png": "[encoded data removed]",
      "text/plain": [
       "<Figure size 432x288 with 1 Axes>"
      ]
     },
     "metadata": {},
     "output_type": "display_data"
    }
   ],
   "source": [
    "sns.barplot(x='country', y='is_active', data=sub)"
   ]
  },
  {
   "cell_type": "markdown",
   "metadata": {},
   "source": [
    "#### China and India has the highest rentention rate (>0.20) while the rest are below 0.10. We should survey the customers in China and India and figure out what exactly is keeping them around and make sure that feature is implemented correctly in the rest. We need to improve engagement in those countries (e.g, build customized programs, giving promotions, etc.) to improve our rentention. This will help improve our revenue."
   ]
  },
  {
   "cell_type": "code",
   "execution_count": null,
   "metadata": {},
   "outputs": [],
   "source": []
  }
 ],
 "metadata": {
  "kernelspec": {
   "display_name": "Python 3",
   "language": "python",
   "name": "python3"
  },
  "language_info": {
   "codemirror_mode": {
    "name": "ipython",
    "version": 3
   },
   "file_extension": ".py",
   "mimetype": "text/x-python",
   "name": "python",
   "nbconvert_exporter": "python",
   "pygments_lexer": "ipython3",
   "version": "3.6.7"
  }
 },
 "nbformat": 4,
 "nbformat_minor": 2
}
